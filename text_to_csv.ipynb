{
 "cells": [
  {
   "cell_type": "code",
   "execution_count": null,
   "id": "f9144042",
   "metadata": {},
   "outputs": [],
   "source": [
    "import json\n",
    "import csv\n",
    "import re\n",
    "\n",
    "input_file = 'train.txt'           \n",
    "output_file = 'train.csv'  \n",
    "\n",
    "def clean_text(text):\n",
    "    text = re.sub(r'</?S>', '', text)      # remove <S> and </S>\n",
    "    text = re.sub(r'\\s+', ' ', text).strip()  # remove extra spaces\n",
    "    return text\n",
    "\n",
    "with open(input_file, 'r', encoding='utf-8') as infile, \\\n",
    "     open(output_file, 'w', newline='', encoding='utf-8') as outfile:\n",
    "\n",
    "    writer = csv.writer(outfile)\n",
    "    writer.writerow(['text', 'summary'])  # heading of the table\n",
    "\n",
    "    for line_num, line in enumerate(infile, 1):\n",
    "        try:\n",
    "            data = json.loads(line)\n",
    "\n",
    "            # get and clean article_text\n",
    "            article_sentences = data.get('article_text', [])\n",
    "            article_text = clean_text(' '.join(article_sentences))\n",
    "\n",
    "            # get and clean abstract_text\n",
    "            abstract_sentences = data.get('abstract_text', [])\n",
    "            abstract_text = clean_text(' '.join(abstract_sentences))\n",
    "\n",
    "            if article_text and abstract_text:\n",
    "                writer.writerow([article_text, abstract_text])\n",
    "            \n",
    "        except json.JSONDecodeError:\n",
    "            print(f\"Skipping line {line_num}: JSON parsing failed\")\n",
    "        except Exception as e:\n",
    "            print(f\"Error at line {line_num}: {e}\")"
   ]
  }
 ],
 "metadata": {
  "language_info": {
   "name": "python"
  }
 },
 "nbformat": 4,
 "nbformat_minor": 5
}
